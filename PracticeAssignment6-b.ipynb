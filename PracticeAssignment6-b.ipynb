{
 "cells": [
  {
   "cell_type": "markdown",
   "id": "ac6f64a4",
   "metadata": {},
   "source": [
    "##### Task1: Mean \n",
    "Breifly decribe the term <b>Mean</b> (<i>dont write formula that sum of all numbers divide by total numbers) </i>\n",
    "Try to present some statistical view of mean(Average).\n",
    "You need to find the mean Average of the array(list). Not built-in function is allowed to use. \n",
    "\n",
    "Example : if user supplies a list [2,3,4,5,5,4,6,7,8,9]\n",
    "\n",
    "The output should be:\n",
    "\n",
    "The mean of the array [2,3,4,5,5,4,6,7,8,9] is 5.3"
   ]
  },
  {
   "cell_type": "code",
   "execution_count": 3,
   "id": "93002a67",
   "metadata": {},
   "outputs": [],
   "source": [
    "li = input('Enter Numbers: ').split(',')\n",
    "n=len(li)\n",
    "a = [int(i) for i in li]\n",
    "b=sum(a)\n",
    "print (f\" The mean of array {a} is {b/n}\")"
   ]
  },
  {
   "cell_type": "markdown",
   "id": "52bedbb9",
   "metadata": {},
   "source": [
    "#### Task2: Median\n",
    "    \n",
    "Breifly decribe the term <b>Median</b> (<i>dont write mathematical formula</i>)\n",
    "\n",
    "You need to find the Median of the array(list). Not built-in function is allowed to use.\n",
    "\n",
    "Example : if user supplies a list [2,3,4,5,5,4,6,7,8,9]\n",
    "\n",
    "The output should be:\n",
    "\n",
    "The median of the array [2,3,4,5,5,4,6,7,8,9] is 5.\n",
    "    "
   ]
  },
  {
   "cell_type": "code",
   "execution_count": null,
   "id": "0f10f151",
   "metadata": {},
   "outputs": [],
   "source": [
    "li = input('Enter Numbers: ').split(',')\n",
    "n=len(li)\n",
    "li.sort()\n",
    "if n%2==0:\n",
    "    first = int(li[n//2])\n",
    "    sec = int(li[n//2 -1])\n",
    "    med = (first + sec)/2\n",
    "    print(f\"The median of the array {li} is {med} \")\n",
    "else:\n",
    "    medi = li[n//2]\n",
    "    print(f\"The median of the array {li} is {medi} \")"
   ]
  },
  {
   "cell_type": "markdown",
   "id": "41484d7c",
   "metadata": {},
   "source": [
    "#### Task3: Mode \n",
    "Breifly decribe the term <b>Mode</b> (<i>dont write mathematical formula</i>)\n",
    "\n",
    "You need to find the Mode of the array(list). Not built-in function is allowed to use.\n",
    "\n",
    "Example : if user supplies a list [2,3,4,5,3,4,6,7,3,9]\n",
    "\n",
    "The output should be:\n",
    "\n",
    "The median of the array [2,3,4,5,3,4,6,7,8,3] is 3."
   ]
  },
  {
   "cell_type": "code",
   "execution_count": 6,
   "id": "e34c18f9",
   "metadata": {},
   "outputs": [],
   "source": [
    "array=input('Enter Numbers: ').split(',')\n",
    "\n",
    "def mode(dataset):\n",
    "    frequency = {}\n",
    "\n",
    "    for value in dataset:\n",
    "        frequency[value] = frequency.get(value, 0) + 1\n",
    "\n",
    "    most_frequent = max(frequency.values())\n",
    "\n",
    "    modes = [key for key, value in frequency.items()\n",
    "                      if value == most_frequent]\n",
    "\n",
    "    return modes\n",
    "    \n",
    "print(f\" The mode of array {array} is {mode(array)}\")"
   ]
  },
  {
   "cell_type": "markdown",
   "id": "ad6fee2a",
   "metadata": {},
   "source": [
    "#### Task4: Sorting an array in ascending order\n",
    "If user supplies an array(list) like arr = [5, 2, 8, 7, 1]. \n",
    "\n",
    "\n",
    "The output should be like:\n",
    "\n",
    "Elements of original array: \n",
    "5 2 8 7 1 \n",
    "\n",
    "Elements of array sorted in ascending order: \n",
    "1 2 5 7 8 \n",
    "\n",
    "Note: We need to write our own sorting algorithm using sort function of list is not acceptable."
   ]
  },
  {
   "cell_type": "code",
   "execution_count": 7,
   "id": "c857c8ba",
   "metadata": {},
   "outputs": [],
   "source": [
    "l = input(\"Enter Numbers: \").split(',')\n",
    "print(f\"Elements of original array: {l}\")\n",
    "\n",
    "for i in range(len(l)):\n",
    "    for j in range(i + 1, len(l)):\n",
    "\n",
    "        if l[i] > l[j]:\n",
    "            l[i], l[j] = l[j], l[i]\n",
    "\n",
    "print(f\"Elements of array sorted in ascending order: {l}\")"
   ]
  },
  {
   "cell_type": "markdown",
   "id": "b3134432",
   "metadata": {},
   "source": [
    "#### Task5: Sorting an array in descending order\n",
    "\n",
    "If user supplies an array(list) like arr = [5, 2, 8, 7, 1]. \n",
    "\n",
    "\n",
    "The output should be like:\n",
    "\n",
    "Elements of original array: \n",
    "5 2 8 7 1 \n",
    "\n",
    "Elements of array sorted in ascending order: \n",
    "8 7 5 2 1 \n",
    "\n",
    "Note: We need to write our own sorting algorithm. Using sort function of list is not acceptable.\n"
   ]
  },
  {
   "cell_type": "code",
   "execution_count": 9,
   "id": "70452f62",
   "metadata": {},
   "outputs": [],
   "source": [
    "l = input(\"Enter Numbers: \").split(',')\n",
    "print(f\"Elements of original array: {l}\")\n",
    "\n",
    "for i in range(len(l)):\n",
    "    for j in range(i + 1, len(l)):\n",
    "\n",
    "        if l[i] < l[j]:\n",
    "            l[i], l[j] = l[j], l[i]\n",
    "        \n",
    "print(f\"Elements of array sorted in descending order: {l}\")"
   ]
  },
  {
   "cell_type": "markdown",
   "id": "fe5691a5",
   "metadata": {},
   "source": [
    "#### Task6: Finding the max of the inputted array \n",
    "\n",
    "If user supplies an array(list) like arr = [5, 2, 8, 7, 1]. \n",
    "\n",
    "\n",
    "The output should be like:\n",
    "\n",
    "Max value in the array is 8\n",
    "\n",
    "Note: We need to write our own max algorithm. use of python max function is not acceptable. "
   ]
  },
  {
   "cell_type": "code",
   "execution_count": null,
   "id": "89ab79e3",
   "metadata": {},
   "outputs": [],
   "source": [
    "l = input(\"Enter Numbers: \").split(',')\n",
    "max=l[0]\n",
    "for i in l:\n",
    "    if i > max:\n",
    "        max = i\n",
    "print(f\"Max value in the array is {max}\")"
   ]
  },
  {
   "cell_type": "markdown",
   "id": "04c3bb05",
   "metadata": {},
   "source": [
    "#### Task7: Finding the min of the inputted array\n",
    "If user supplies an array(list) like arr = [5, 2, 8, 7, 1].\n",
    "\n",
    "The output should be like:\n",
    "\n",
    "Min value in the array is 1\n",
    "\n",
    "Note: We need to write our own min algorithm. use of python min function is not acceptable."
   ]
  },
  {
   "cell_type": "code",
   "execution_count": 10,
   "id": "36abc9e4",
   "metadata": {},
   "outputs": [],
   "source": [
    "l = input(\"Enter Numbers: \").split(',')\n",
    "min=l[0]\n",
    "for i in l:\n",
    "    if i < min:\n",
    "        min = i\n",
    "print(min)\n",
    "print(f\"Min value in the array is {min}\")"
   ]
  },
  {
   "cell_type": "code",
   "execution_count": null,
   "id": "7c856b2b",
   "metadata": {},
   "outputs": [],
   "source": []
  }
 ],
 "metadata": {
  "kernelspec": {
   "display_name": "Python 3 (ipykernel)",
   "language": "python",
   "name": "python3"
  },
  "language_info": {
   "codemirror_mode": {
    "name": "ipython",
    "version": 3
   },
   "file_extension": ".py",
   "mimetype": "text/x-python",
   "name": "python",
   "nbconvert_exporter": "python",
   "pygments_lexer": "ipython3",
   "version": "3.9.12"
  }
 },
 "nbformat": 4,
 "nbformat_minor": 5
}
