{
 "cells": [
  {
   "cell_type": "code",
   "execution_count": 7,
   "id": "2f69791f",
   "metadata": {
    "scrolled": true
   },
   "outputs": [
    {
     "name": "stdout",
     "output_type": "stream",
     "text": [
      "Number: 454\n",
      "<class 'str'>\n"
     ]
    }
   ],
   "source": [
    "a= input(\"Number: \")\n",
    "print(type(a))"
   ]
  },
  {
   "cell_type": "code",
   "execution_count": 10,
   "id": "ba2bc6e4",
   "metadata": {},
   "outputs": [
    {
     "name": "stdout",
     "output_type": "stream",
     "text": [
      "Number: 46\n"
     ]
    }
   ],
   "source": [
    "a= input(\"Number: \")\n",
    "if type(a)==type(2.2):\n",
    "    print(\"float\")\n",
    "elif type(a)==type(2):\n",
    "    print(\"Int\")\n",
    "else:\n",
    "    print(\"String\")"
   ]
  },
  {
   "cell_type": "code",
   "execution_count": null,
   "id": "c4a7a66c",
   "metadata": {},
   "outputs": [],
   "source": [
    "def check_user_input(input):\n",
    "    try:\n",
    "        # Convert it into integer\n",
    "        val = int(input)\n",
    "        print(\"Input is an integer number. Number = \", val)\n",
    "    except ValueError:\n",
    "        try:\n",
    "            # Convert it into float\n",
    "            val = float(input)\n",
    "            print(\"Input is a float  number. Number = \", val)\n",
    "        except ValueError:\n",
    "            print(\"No.. input is not a number. It's a string\")\n",
    "\n",
    "\n",
    "input1 = input(\"Enter your Age \")\n",
    "check_user_input(input1)\n",
    "\n",
    "input2 = input(\"Enter any number \")\n",
    "check_user_input(input2)\n",
    "\n",
    "input2 = input(\"Enter the last number \")\n",
    "check_user_input(input2)"
   ]
  },
  {
   "cell_type": "code",
   "execution_count": 1,
   "id": "46f0671b",
   "metadata": {},
   "outputs": [
    {
     "name": "stdout",
     "output_type": "stream",
     "text": [
      "534.0\n"
     ]
    }
   ],
   "source": [
    "num = 534\n",
    "cbc= float(num)\n",
    "print(cbc)"
   ]
  },
  {
   "cell_type": "code",
   "execution_count": 2,
   "id": "1680bdff",
   "metadata": {},
   "outputs": [
    {
     "name": "stdout",
     "output_type": "stream",
     "text": [
      "578\n"
     ]
    }
   ],
   "source": [
    "num = 578.466\n",
    "cbc= int(num)\n",
    "print(cbc)"
   ]
  },
  {
   "cell_type": "code",
   "execution_count": null,
   "id": "35f578d1",
   "metadata": {},
   "outputs": [],
   "source": []
  }
 ],
 "metadata": {
  "kernelspec": {
   "display_name": "Python 3 (ipykernel)",
   "language": "python",
   "name": "python3"
  },
  "language_info": {
   "codemirror_mode": {
    "name": "ipython",
    "version": 3
   },
   "file_extension": ".py",
   "mimetype": "text/x-python",
   "name": "python",
   "nbconvert_exporter": "python",
   "pygments_lexer": "ipython3",
   "version": "3.9.12"
  }
 },
 "nbformat": 4,
 "nbformat_minor": 5
}
